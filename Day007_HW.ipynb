{
 "cells": [
  {
   "cell_type": "markdown",
   "metadata": {},
   "source": [
    "#### HTTP 靜態網頁架構說明\n",
    "\n",
    "認識靜態網頁的溝通架構與運作原理\n",
    "HTML、CSS、JavaScript 在網頁中扮演的角色\n",
    "網頁中定位資料的方法\n",
    "\n",
    "#### 作業目標\n",
    "\n",
    "1. （簡答題）請問目前提到的這種基於 HTTP 一來一回的網頁傳輸方式，有哪些缺點及問題？\n",
    "2. （簡答題）網頁中使用的 JavaScipt 程式語言，跟我們一般使用的 Python 在執行上有什麼不同。\n",
    "\n",
    "1.（簡答題）請問目前提到的這種基於 HTTP 一來一回的網頁傳輸方式，有哪些缺點及問題？"
   ]
  },
  {
   "cell_type": "code",
   "execution_count": 1,
   "metadata": {},
   "outputs": [
    {
     "data": {
      "text/plain": [
       "'\\n- 通信使用不加密明文,內容可能會被竊聽\\n- 不驗證通信方的身份,因此有可能遭遇客戶端和服務端的偽裝\\n- 無法證明文章的完整性,有可能會被篡改\\n'"
      ]
     },
     "execution_count": 1,
     "metadata": {},
     "output_type": "execute_result"
    }
   ],
   "source": [
    "'''\n",
    "- 通信使用不加密明文,內容可能會被竊聽\n",
    "- 不驗證通信方的身份,因此有可能遭遇客戶端和服務端的偽裝\n",
    "- 無法證明文章的完整性,有可能會被篡改\n",
    "'''"
   ]
  },
  {
   "cell_type": "code",
   "execution_count": null,
   "metadata": {},
   "outputs": [],
   "source": []
  },
  {
   "cell_type": "markdown",
   "metadata": {},
   "source": [
    "2. （簡答題）網頁中使用的 JavaScipt 程式語言，跟我們一般使用的 Python 在執行上有什麼不同。"
   ]
  },
  {
   "cell_type": "code",
   "execution_count": 2,
   "metadata": {},
   "outputs": [
    {
     "data": {
      "text/plain": [
       "'\\nJavaScript 有助於開發構建可擴充套件的網路應用程式。它使用事件驅動的非阻塞 I/O 模型，使其成為開發資料密集型實時應用程式的理想選擇。\\n\\n        提供更高的效能和速度。它是開發訊息傳遞或聊天應用程式的理想解決方案。它對於開發依賴於處理速度的過載應用程式和電子商務站點也很有用。\\n\\nPython 擁有一個開源資料分析工具庫，Web 框架和測試工具。因此，它的生態系統是任何程式設計社群中最大的一個。\\n\\n        Python 還具有一致性，穩定性和易用性。它非常適合開發科學應用程式，大資料解決方案和政府專案。\\n'"
      ]
     },
     "execution_count": 2,
     "metadata": {},
     "output_type": "execute_result"
    }
   ],
   "source": [
    "'''\n",
    "JavaScript 有助於開發構建可擴充套件的網路應用程式。它使用事件驅動的非阻塞 I/O 模型，使其成為開發資料密集型實時應用程式的理想選擇。\n",
    "\n",
    "        提供更高的效能和速度。它是開發訊息傳遞或聊天應用程式的理想解決方案。它對於開發依賴於處理速度的過載應用程式和電子商務站點也很有用。\n",
    "\n",
    "Python 擁有一個開源資料分析工具庫，Web 框架和測試工具。因此，它的生態系統是任何程式設計社群中最大的一個。\n",
    "\n",
    "        Python 還具有一致性，穩定性和易用性。它非常適合開發科學應用程式，大資料解決方案和政府專案。\n",
    "'''"
   ]
  },
  {
   "cell_type": "code",
   "execution_count": null,
   "metadata": {},
   "outputs": [],
   "source": []
  }
 ],
 "metadata": {
  "kernelspec": {
   "display_name": "Python 3",
   "language": "python",
   "name": "python3"
  },
  "language_info": {
   "codemirror_mode": {
    "name": "ipython",
    "version": 3
   },
   "file_extension": ".py",
   "mimetype": "text/x-python",
   "name": "python",
   "nbconvert_exporter": "python",
   "pygments_lexer": "ipython3",
   "version": "3.7.4"
  }
 },
 "nbformat": 4,
 "nbformat_minor": 2
}
