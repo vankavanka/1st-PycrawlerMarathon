{
 "cells": [
  {
   "cell_type": "markdown",
   "metadata": {},
   "source": [
    "1.（簡答題）檔案、API、爬蟲三種取得資料方式有什麼不同？\n",
    "\n",
    "2.（實作）完成一個程式，需滿足下列需求："
   ]
  },
  {
   "cell_type": "markdown",
   "metadata": {},
   "source": [
    "「下載指定檔案到 Data 資料夾，存成檔名 Homework.txt」的檔案網址：https://www.w3.org/TR/PNG/iso_8859-1.txt 或任一個 .txt 的檔案網址\n",
    "\n",
    "檢查 Data 資料夾是否有 Homework.txt 檔名之檔案\n",
    "\n",
    "將「Hello World」字串覆寫到 Homework.txt 檔案\n",
    "\n",
    "檢查 Homework.txt 檔案字數是否符合 Hello World 字數\n",
    "\n",
    "\n",
    "\n",
    "請點擊下方檢視範例參考Day001_Sample.ipynb，作業請提交Day001_HW.ipynb\n",
    "\n"
   ]
  },
  {
   "cell_type": "code",
   "execution_count": null,
   "metadata": {},
   "outputs": [],
   "source": []
  },
  {
   "cell_type": "markdown",
   "metadata": {},
   "source": [
    "1.（簡答題）檔案、API、爬蟲三種取得資料方式有什麼不同？\n",
    "\n",
    "檔案 : 由資料擁有者主動釋出,資料會包成檔案提供下載,格式可能包           含'CSV','JSON'等,常用的標準格式.\n",
    "\n",
    "API  : 由資料擁有者主動釋出,提供程式化的接口,讓工程師/分析師可選擇資料中要讀取的特定部分,不需要把資料完整下載.\n",
    "\n",
    "爬蟲 : 網頁上資料没有主動提供,可以利用爬蟲程式,將網頁的資料解析所需要的部分."
   ]
  },
  {
   "cell_type": "code",
   "execution_count": null,
   "metadata": {},
   "outputs": [],
   "source": []
  },
  {
   "cell_type": "markdown",
   "metadata": {},
   "source": [
    "2.（實作）完成一個程式，需滿足下列需求：\n",
    "\n",
    "「下載指定檔案到 Data 資料夾，存成檔名 Homework.txt」的檔案網址：https://www.w3.org/TR/PNG/iso_8859-1.txt 或任一個 .txt 的檔案網址\n"
   ]
  },
  {
   "cell_type": "code",
   "execution_count": 20,
   "metadata": {},
   "outputs": [
    {
     "data": {
      "text/plain": [
       "('.\\\\Data\\\\Homework.txt', <http.client.HTTPMessage at 0x1d14e7b80f0>)"
      ]
     },
     "execution_count": 20,
     "metadata": {},
     "output_type": "execute_result"
    }
   ],
   "source": [
    "from urllib.request import urlretrieve\n",
    "import os\n",
    "os.makedirs(\"./Data/\")\n",
    "url=\"https://www.w3.org/TR/PNG/iso_8859-1.txt\"\n",
    "urlretrieve(url,\".\\Data\\Homework.txt\")         "
   ]
  },
  {
   "cell_type": "markdown",
   "metadata": {},
   "source": [
    "檢查 Data 資料夾是否有 Homework.txt 檔名之檔案"
   ]
  },
  {
   "cell_type": "code",
   "execution_count": 3,
   "metadata": {},
   "outputs": [
    {
     "name": "stdout",
     "output_type": "stream",
     "text": [
      "檔案存在\n"
     ]
    }
   ],
   "source": [
    "import os\n",
    "url='.\\Data\\Homework.txt'\n",
    "if os.path.isfile(url):\n",
    "    print(\"檔案存在\")\n",
    "else:\n",
    "    print(\"檔案不存在\")"
   ]
  },
  {
   "cell_type": "markdown",
   "metadata": {},
   "source": [
    "將「Hello World」字串覆寫到 Homework.txt 檔案"
   ]
  },
  {
   "cell_type": "code",
   "execution_count": 8,
   "metadata": {},
   "outputs": [
    {
     "name": "stdout",
     "output_type": "stream",
     "text": [
      "Hello World\n"
     ]
    }
   ],
   "source": [
    "with open(\"Homework.txt\",\"w\") as hw:\n",
    "    hw.write(\"Hello World\")\n",
    "with open(\"Homework.txt\",\"r\") as hw:\n",
    "    x=hw.read()\n",
    "    print(x)"
   ]
  },
  {
   "cell_type": "markdown",
   "metadata": {},
   "source": [
    "檢查 Homework.txt 檔案字數是否符合 Hello World 字數"
   ]
  },
  {
   "cell_type": "code",
   "execution_count": 28,
   "metadata": {},
   "outputs": [
    {
     "name": "stdout",
     "output_type": "stream",
     "text": [
      "2\n",
      "2\n",
      "字數相符合\n"
     ]
    }
   ],
   "source": [
    "wordcount=0\n",
    "with open(\"Homework.txt\",\"r\") as hw:\n",
    "    for line in hw:\n",
    "        word=line.split()\n",
    "        wordcount=wordcount+len(word)\n",
    "print(wordcount) \n",
    "\n",
    "wordcount1=0\n",
    "word1=line.split(\"Hello World\")\n",
    "wordcount1=wordcount1+len(word1)\n",
    "print(wordcount1)\n",
    "\n",
    "if wordcount==wordcount1:\n",
    "    print(\"字數相符合\")\n",
    "else:\n",
    "    print(\"字數不符合\")"
   ]
  },
  {
   "cell_type": "code",
   "execution_count": null,
   "metadata": {},
   "outputs": [],
   "source": []
  },
  {
   "cell_type": "code",
   "execution_count": null,
   "metadata": {},
   "outputs": [],
   "source": []
  },
  {
   "cell_type": "code",
   "execution_count": null,
   "metadata": {},
   "outputs": [],
   "source": []
  },
  {
   "cell_type": "code",
   "execution_count": null,
   "metadata": {},
   "outputs": [],
   "source": []
  }
 ],
 "metadata": {
  "kernelspec": {
   "display_name": "Python 3",
   "language": "python",
   "name": "python3"
  },
  "language_info": {
   "codemirror_mode": {
    "name": "ipython",
    "version": 3
   },
   "file_extension": ".py",
   "mimetype": "text/x-python",
   "name": "python",
   "nbconvert_exporter": "python",
   "pygments_lexer": "ipython3",
   "version": "3.7.0"
  }
 },
 "nbformat": 4,
 "nbformat_minor": 2
}
